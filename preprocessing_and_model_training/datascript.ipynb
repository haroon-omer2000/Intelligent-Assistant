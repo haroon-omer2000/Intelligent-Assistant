{
 "cells": [
  {
   "cell_type": "code",
   "execution_count": 6,
   "id": "13333c4c",
   "metadata": {},
   "outputs": [],
   "source": [
    "import copy\n",
    "import re\n",
    "import urllib.request\n",
    "import requests # to get image from the web\n",
    "import shutil # to save it locally\n",
    "\n",
    "\n",
    "\n"
   ]
  },
  {
   "cell_type": "code",
   "execution_count": null,
   "id": "de7da0e6",
   "metadata": {},
   "outputs": [
    {
     "name": "stdout",
     "output_type": "stream",
     "text": [
      "Image sucessfully Downloaded:  1\n",
      "Image sucessfully Downloaded:  4\n",
      "Image sucessfully Downloaded:  5\n",
      "Image sucessfully Downloaded:  6\n",
      "Image sucessfully Downloaded:  7\n",
      "Image sucessfully Downloaded:  8\n",
      "Image sucessfully Downloaded:  9\n",
      "Image sucessfully Downloaded:  10\n",
      "Image sucessfully Downloaded:  11\n",
      "Image sucessfully Downloaded:  12\n",
      "Image sucessfully Downloaded:  13\n",
      "Image sucessfully Downloaded:  14\n",
      "Image sucessfully Downloaded:  15\n",
      "Image sucessfully Downloaded:  16\n",
      "Image sucessfully Downloaded:  17\n",
      "Image sucessfully Downloaded:  18\n",
      "Image sucessfully Downloaded:  19\n",
      "Image sucessfully Downloaded:  20\n",
      "Image sucessfully Downloaded:  21\n",
      "Image sucessfully Downloaded:  22\n",
      "Image sucessfully Downloaded:  23\n",
      "Image sucessfully Downloaded:  24\n",
      "Image sucessfully Downloaded:  27\n",
      "Image sucessfully Downloaded:  29\n",
      "Image sucessfully Downloaded:  30\n",
      "Image sucessfully Downloaded:  31\n",
      "Image sucessfully Downloaded:  32\n",
      "Image sucessfully Downloaded:  33\n",
      "Image sucessfully Downloaded:  34\n",
      "Image sucessfully Downloaded:  35\n",
      "Image sucessfully Downloaded:  36\n",
      "Image sucessfully Downloaded:  37\n",
      "error 38\n",
      "Image sucessfully Downloaded:  39\n",
      "Image sucessfully Downloaded:  40\n",
      "Image sucessfully Downloaded:  41\n",
      "Image sucessfully Downloaded:  42\n",
      "Image sucessfully Downloaded:  44\n",
      "Image sucessfully Downloaded:  45\n",
      "Image sucessfully Downloaded:  47\n",
      "Image sucessfully Downloaded:  49\n"
     ]
    }
   ],
   "source": [
    "file1 = open(r\"C:\\Users\\Osama manzoor\\Desktop\\file.txt\",'r')\n",
    "Lines = file1.readlines()\n",
    " \n",
    "count = 0\n",
    "# Strips the newline character\n",
    "with open('readme.txt', 'w') as f1:\n",
    "    for line in Lines:\n",
    "        count += 1\n",
    "        temp=re.search(\"(?P<url>https?://[^\\s]+)\", line).group(\"url\")\n",
    "        temp2=copy.deepcopy(line)\n",
    "        temp2=temp2.replace(temp,\" \")\n",
    "    #try:\n",
    "        try:\n",
    "          filename = str(count)+\"osama.jpg\"\n",
    "          r = requests.get(temp, stream = True)\n",
    "          if r.status_code == 200:\n",
    "            r.raw.decode_content = True\n",
    "            with open(filename,'wb') as f:\n",
    "              shutil.copyfileobj(r.raw, f)\n",
    "            print('Image sucessfully Downloaded: ',count)\n",
    "            wroten=filename\n",
    "            wroten+=\"     \"\n",
    "            wroten+=temp2\n",
    "            f1.write(wroten)\n",
    "          #else:\n",
    "            #f1.write('\\n'.format(count))\n",
    "        except:\n",
    "          #f1.write('\\n'.format(count))\n",
    "          print(\"error\",count)\n"
   ]
  },
  {
   "cell_type": "code",
   "execution_count": 3,
   "id": "e9fe6aa7",
   "metadata": {},
   "outputs": [
    {
     "name": "stdout",
     "output_type": "stream",
     "text": [
      "osama\n"
     ]
    }
   ],
   "source": [
    "print(\"osama\")"
   ]
  },
  {
   "cell_type": "code",
   "execution_count": null,
   "id": "2cd1570b",
   "metadata": {},
   "outputs": [],
   "source": []
  },
  {
   "cell_type": "code",
   "execution_count": null,
   "id": "62049646",
   "metadata": {},
   "outputs": [],
   "source": []
  }
 ],
 "metadata": {
  "kernelspec": {
   "display_name": "Python 3 (ipykernel)",
   "language": "python",
   "name": "python3"
  },
  "language_info": {
   "codemirror_mode": {
    "name": "ipython",
    "version": 3
   },
   "file_extension": ".py",
   "mimetype": "text/x-python",
   "name": "python",
   "nbconvert_exporter": "python",
   "pygments_lexer": "ipython3",
   "version": "3.9.6"
  }
 },
 "nbformat": 4,
 "nbformat_minor": 5
}
